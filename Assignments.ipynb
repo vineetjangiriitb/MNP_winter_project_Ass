{
 "cells": [
  {
   "cell_type": "markdown",
   "metadata": {},
   "source": [
    "# **Basic Python**"
   ]
  },
  {
   "cell_type": "markdown",
   "metadata": {},
   "source": [
    "## 1.a \n",
    "Give a function F that takes a single argument n. This function should print a sequence of n strings as described in the examples below: <br>\n",
    "Ex: **n = 3**\n",
    "\n",
    "--A--<br>\n",
    "-BAB-<br>\n",
    "CBABC<br>\n",
    "\n",
    "**n = 4**\n",
    "\n",
    "---A---<br>\n",
    "--BAB--<br>\n",
    "-CBABC-<br>\n",
    "DCBABCD"
   ]
  },
  {
   "cell_type": "code",
   "execution_count": 11,
   "metadata": {},
   "outputs": [
    {
     "name": "stdout",
     "output_type": "stream",
     "text": [
      "Uppercase Alphabets: ['A', 'B', 'C', 'D', 'E', 'F', 'G', 'H', 'I', 'J', 'K', 'L', 'M', 'N', 'O', 'P', 'Q', 'R', 'S', 'T', 'U', 'V', 'W', 'X', 'Y', 'Z']\n"
     ]
    }
   ],
   "source": [
    "# Generate uppercase alphabets\n",
    "uppercase_alphabets = [chr(i) for i in range(65, 91)]\n",
    "print(\"Uppercase Alphabets:\", uppercase_alphabets)"
   ]
  },
  {
   "cell_type": "code",
   "execution_count": 12,
   "metadata": {},
   "outputs": [
    {
     "name": "stdout",
     "output_type": "stream",
     "text": [
      "---------A---------\n",
      "--------BAB--------\n",
      "-------CBABC-------\n",
      "------DCBABCD------\n",
      "-----EDCBABCDE-----\n",
      "----FEDCBABCDEF----\n",
      "---GFEDCBABCDEFG---\n",
      "--HGFEDCBABCDEFGH--\n",
      "-IHGFEDCBABCDEFGHI-\n",
      "JIHGFEDCBABCDEFGHIJ\n",
      "-----A-----\n",
      "----BAB----\n",
      "---CBABC---\n",
      "--DCBABCD--\n",
      "-EDCBABCDE-\n",
      "FEDCBABCDEF\n"
     ]
    }
   ],
   "source": [
    "def F(n):\n",
    "    for i in range(n):\n",
    "        dashs = (n-i-1)*'-'\n",
    "        alpha = \"\"\n",
    "        for j in range(i):\n",
    "            alpha += uppercase_alphabets[i - j]\n",
    "        for j in range(i + 1):\n",
    "            alpha += uppercase_alphabets[j]   \n",
    "        print(f\"{dashs}{alpha}{dashs}\") \n",
    "\n",
    "# Tests\n",
    "F(10)\n",
    "F(6)"
   ]
  },
  {
   "cell_type": "markdown",
   "metadata": {},
   "source": [
    "## 1.b\n",
    "Make a function F that takes only one argument, a dictionary(dict) d.\n",
    "The keys of d are integers and the values of d are a tuple of type (x (int), y (int)).\n",
    "You must print out the dict in the format \"-key-, -x-, -y-\" with each entry in a new line. Print it for each of the three sorted orders, by key values ascending, by x values descending, by y values ascending."
   ]
  },
  {
   "cell_type": "code",
   "execution_count": 15,
   "metadata": {},
   "outputs": [
    {
     "name": "stdout",
     "output_type": "stream",
     "text": [
      "key values ascending\n",
      "-1-,-1-,-2-\n",
      "-2-,--1-,-4-\n",
      "-4-,-2-,-3-\n",
      "-5-,--4-,-3-\n",
      "x values descending\n",
      "-4-,-2-,-3-\n",
      "-1-,-1-,-2-\n",
      "-2-,--1-,-4-\n",
      "-5-,--4-,-3-\n",
      "y values ascending\n",
      "-1-,-1-,-2-\n",
      "-5-,--4-,-3-\n",
      "-4-,-2-,-3-\n",
      "-2-,--1-,-4-\n",
      "key values ascending\n",
      "--8-,-4-,-2-\n",
      "-5-,-9-,--10-\n",
      "-6-,--3-,-4-\n",
      "-7-,-2-,-1-\n",
      "x values descending\n",
      "-5-,-9-,--10-\n",
      "--8-,-4-,-2-\n",
      "-7-,-2-,-1-\n",
      "-6-,--3-,-4-\n",
      "y values ascending\n",
      "-5-,-9-,--10-\n",
      "-7-,-2-,-1-\n",
      "--8-,-4-,-2-\n",
      "-6-,--3-,-4-\n"
     ]
    }
   ],
   "source": [
    "def ascend(x : list):\n",
    "    leng = len(x)\n",
    "    ordered = []\n",
    "    for j in range(leng):\n",
    "        max = x[0]\n",
    "        for i in range(len(x)):\n",
    "            if x[i] >= max:\n",
    "                max = x[i]\n",
    "        ordered.append(max)\n",
    "        x.remove(max)\n",
    "    ordered.reverse()\n",
    "    return ordered\n",
    "\n",
    "def F(d : dict):\n",
    "    lis = []\n",
    "    for i in d.keys():\n",
    "        lis.append(i)\n",
    "    ascen = ascend(lis)\n",
    "    print(\"key values ascending\")\n",
    "    for i in ascen:\n",
    "        print(f\"-{i}-,-{d[i][0]}-,-{d[i][1]}-\")\n",
    "\n",
    "    for i in d.values():\n",
    "        lis.append(i[0])\n",
    "    print(\"x values descending\")\n",
    "    descen = ascend(lis)\n",
    "    descen.reverse()\n",
    "    for i in range(len(descen)):\n",
    "        for j in range(4):\n",
    "            if descen[i] == list(d.values())[j][0]:\n",
    "                print(f\"-{list(d.keys())[j]}-,-{list(d.values())[j][0]}-,-{list(d.values())[j][1]}-\")\n",
    "                break\n",
    "    \n",
    "    for i in d.values():\n",
    "        lis.append(i[1])\n",
    "    print(\"y values ascending\")\n",
    "    ascen1 = ascend(lis)\n",
    "    for i in range(len(ascen1)):\n",
    "        for j in range(4):\n",
    "            if ascen1[i] == list(d.values())[j][1]:\n",
    "                print(f\"-{list(d.keys())[j]}-,-{list(d.values())[j][0]}-,-{list(d.values())[j][1]}-\")\n",
    "                del d[list(d.keys())[j]]\n",
    "                break\n",
    "\n",
    "# Tests\n",
    "F({1 : (1, 2), 2 : (-1, 4), 5 : (-4, 3), 4 : (2, 3)})\n",
    "F({-8 : (4, 2), 6 : (-3, 4), 7 : (2, 1), 5 : (9, -10)})"
   ]
  },
  {
   "cell_type": "markdown",
   "metadata": {},
   "source": [
    "## 2 Working with Student Records\n",
    "\n",
    "Use the data in **student_records.csv** to complete the given tasks. Do not include any external libraries. Use a Python dictionary if required.\n",
    "\n",
    "### Reference\n",
    "- [Python Dictionaries](https://www.w3schools.com/python/python_dictionaries.asp)\n"
   ]
  },
  {
   "cell_type": "markdown",
   "metadata": {},
   "source": [
    "#### 2.a: open the student_records.csv file and print out the first 10 rows"
   ]
  },
  {
   "cell_type": "code",
   "execution_count": 1,
   "metadata": {},
   "outputs": [
    {
     "data": {
      "text/html": [
       "<div>\n",
       "<style scoped>\n",
       "    .dataframe tbody tr th:only-of-type {\n",
       "        vertical-align: middle;\n",
       "    }\n",
       "\n",
       "    .dataframe tbody tr th {\n",
       "        vertical-align: top;\n",
       "    }\n",
       "\n",
       "    .dataframe thead th {\n",
       "        text-align: right;\n",
       "    }\n",
       "</style>\n",
       "<table border=\"1\" class=\"dataframe\">\n",
       "  <thead>\n",
       "    <tr style=\"text-align: right;\">\n",
       "      <th></th>\n",
       "      <th>roll_number</th>\n",
       "      <th>department</th>\n",
       "      <th>credit</th>\n",
       "      <th>course_name</th>\n",
       "      <th>course_type</th>\n",
       "      <th>grade</th>\n",
       "    </tr>\n",
       "  </thead>\n",
       "  <tbody>\n",
       "    <tr>\n",
       "      <th>0</th>\n",
       "      <td>588946</td>\n",
       "      <td>MA</td>\n",
       "      <td>3</td>\n",
       "      <td>EC250</td>\n",
       "      <td>hasmed_elective</td>\n",
       "      <td>AB</td>\n",
       "    </tr>\n",
       "    <tr>\n",
       "      <th>1</th>\n",
       "      <td>145372</td>\n",
       "      <td>EP</td>\n",
       "      <td>4</td>\n",
       "      <td>EP407</td>\n",
       "      <td>hasmed_elective</td>\n",
       "      <td>CC</td>\n",
       "    </tr>\n",
       "    <tr>\n",
       "      <th>2</th>\n",
       "      <td>834515</td>\n",
       "      <td>MA</td>\n",
       "      <td>8</td>\n",
       "      <td>EP885</td>\n",
       "      <td>hasmed_elective</td>\n",
       "      <td>BB</td>\n",
       "    </tr>\n",
       "    <tr>\n",
       "      <th>3</th>\n",
       "      <td>344265</td>\n",
       "      <td>CSE</td>\n",
       "      <td>6</td>\n",
       "      <td>CSE699</td>\n",
       "      <td>honours</td>\n",
       "      <td>AB</td>\n",
       "    </tr>\n",
       "    <tr>\n",
       "      <th>4</th>\n",
       "      <td>358405</td>\n",
       "      <td>MA</td>\n",
       "      <td>3</td>\n",
       "      <td>EE460</td>\n",
       "      <td>minor</td>\n",
       "      <td>AP</td>\n",
       "    </tr>\n",
       "    <tr>\n",
       "      <th>5</th>\n",
       "      <td>781075</td>\n",
       "      <td>CE</td>\n",
       "      <td>8</td>\n",
       "      <td>CE540</td>\n",
       "      <td>honours</td>\n",
       "      <td>CC</td>\n",
       "    </tr>\n",
       "    <tr>\n",
       "      <th>6</th>\n",
       "      <td>180828</td>\n",
       "      <td>CSE</td>\n",
       "      <td>6</td>\n",
       "      <td>CE880</td>\n",
       "      <td>minor</td>\n",
       "      <td>AB</td>\n",
       "    </tr>\n",
       "    <tr>\n",
       "      <th>7</th>\n",
       "      <td>981238</td>\n",
       "      <td>MM</td>\n",
       "      <td>4</td>\n",
       "      <td>CSE226</td>\n",
       "      <td>minor</td>\n",
       "      <td>AB</td>\n",
       "    </tr>\n",
       "    <tr>\n",
       "      <th>8</th>\n",
       "      <td>836881</td>\n",
       "      <td>MM</td>\n",
       "      <td>8</td>\n",
       "      <td>MM530</td>\n",
       "      <td>core</td>\n",
       "      <td>AA</td>\n",
       "    </tr>\n",
       "    <tr>\n",
       "      <th>9</th>\n",
       "      <td>310604</td>\n",
       "      <td>EE</td>\n",
       "      <td>8</td>\n",
       "      <td>EE202</td>\n",
       "      <td>core</td>\n",
       "      <td>AB</td>\n",
       "    </tr>\n",
       "  </tbody>\n",
       "</table>\n",
       "</div>"
      ],
      "text/plain": [
       "   roll_number department  credit course_name      course_type grade\n",
       "0       588946         MA       3       EC250  hasmed_elective    AB\n",
       "1       145372         EP       4       EP407  hasmed_elective    CC\n",
       "2       834515         MA       8       EP885  hasmed_elective    BB\n",
       "3       344265        CSE       6      CSE699          honours    AB\n",
       "4       358405         MA       3       EE460            minor    AP\n",
       "5       781075         CE       8       CE540          honours    CC\n",
       "6       180828        CSE       6       CE880            minor    AB\n",
       "7       981238         MM       4      CSE226            minor    AB\n",
       "8       836881         MM       8       MM530             core    AA\n",
       "9       310604         EE       8       EE202             core    AB"
      ]
     },
     "execution_count": 1,
     "metadata": {},
     "output_type": "execute_result"
    }
   ],
   "source": [
    "import pandas as pd\n",
    "df = pd.read_csv(\"student_records.csv\")\n",
    "df.iloc[:10]"
   ]
  },
  {
   "cell_type": "markdown",
   "metadata": {},
   "source": [
    "#### 2.b: Print out the total credits and calculte CPI of each student. \n",
    "CPI is the weighted average of core courses, and electives (weights being the letter grades converted to number AP,AA=10, AB=9, BB=9, BC=7, CC=6)"
   ]
  },
  {
   "cell_type": "code",
   "execution_count": 10,
   "metadata": {},
   "outputs": [
    {
     "name": "stdout",
     "output_type": "stream",
     "text": [
      "Roll num: 358405, Total credit: 206, CPI: 8.587378640776699\n",
      "Roll num: 194063, Total credit: 157, CPI: 8.140127388535031\n",
      "Roll num: 879634, Total credit: 203, CPI: 8.738916256157635\n",
      "Roll num: 613401, Total credit: 209, CPI: 8.440191387559809\n",
      "Roll num: 681499, Total credit: 234, CPI: 8.256410256410257\n",
      "Roll num: 928288, Total credit: 191, CPI: 8.513089005235603\n",
      "Roll num: 199713, Total credit: 172, CPI: 8.290697674418604\n",
      "Roll num: 970791, Total credit: 220, CPI: 8.122727272727273\n",
      "Roll num: 993835, Total credit: 175, CPI: 8.434285714285714\n",
      "Roll num: 788020, Total credit: 193, CPI: 8.015544041450777\n",
      "Roll num: 888886, Total credit: 207, CPI: 8.270531400966183\n",
      "Roll num: 138296, Total credit: 200, CPI: 8.275\n",
      "Roll num: 301135, Total credit: 206, CPI: 8.325242718446601\n",
      "Roll num: 721490, Total credit: 235, CPI: 8.34468085106383\n",
      "Roll num: 207443, Total credit: 161, CPI: 8.304347826086957\n",
      "Roll num: 851029, Total credit: 161, CPI: 8.322981366459627\n",
      "Roll num: 381526, Total credit: 160, CPI: 8.425\n",
      "Roll num: 379479, Total credit: 260, CPI: 8.246153846153845\n",
      "Roll num: 733782, Total credit: 169, CPI: 8.420118343195266\n",
      "Roll num: 465496, Total credit: 168, CPI: 8.303571428571429\n",
      "Roll num: 180828, Total credit: 177, CPI: 8.096045197740112\n",
      "Roll num: 692318, Total credit: 216, CPI: 8.166666666666666\n",
      "Roll num: 485484, Total credit: 216, CPI: 8.36111111111111\n",
      "Roll num: 628849, Total credit: 183, CPI: 8.71584699453552\n",
      "Roll num: 364146, Total credit: 225, CPI: 8.395555555555555\n",
      "Roll num: 144528, Total credit: 228, CPI: 8.157894736842104\n",
      "Roll num: 588946, Total credit: 199, CPI: 8.693467336683417\n",
      "Roll num: 461971, Total credit: 252, CPI: 8.293650793650794\n",
      "Roll num: 283796, Total credit: 211, CPI: 8.815165876777252\n",
      "Roll num: 841365, Total credit: 177, CPI: 7.994350282485875\n",
      "Roll num: 680096, Total credit: 153, CPI: 8.045751633986928\n",
      "Roll num: 391848, Total credit: 217, CPI: 8.43778801843318\n",
      "Roll num: 718510, Total credit: 184, CPI: 8.429347826086957\n",
      "Roll num: 750259, Total credit: 209, CPI: 8.354066985645932\n",
      "Roll num: 270007, Total credit: 241, CPI: 8.033195020746888\n",
      "Roll num: 608952, Total credit: 251, CPI: 8.326693227091633\n",
      "Roll num: 716985, Total credit: 185, CPI: 8.183783783783785\n",
      "Roll num: 907454, Total credit: 245, CPI: 8.269387755102041\n",
      "Roll num: 265922, Total credit: 236, CPI: 8.347457627118644\n",
      "Roll num: 344265, Total credit: 153, CPI: 8.699346405228757\n",
      "Roll num: 517837, Total credit: 205, CPI: 8.580487804878048\n",
      "Roll num: 159438, Total credit: 176, CPI: 8.380681818181818\n",
      "Roll num: 488661, Total credit: 248, CPI: 8.60483870967742\n",
      "Roll num: 589528, Total credit: 153, CPI: 8.732026143790849\n",
      "Roll num: 581858, Total credit: 216, CPI: 8.050925925925926\n",
      "Roll num: 208100, Total credit: 182, CPI: 8.587912087912088\n",
      "Roll num: 534763, Total credit: 158, CPI: 7.930379746835443\n",
      "Roll num: 870642, Total credit: 161, CPI: 8.01863354037267\n",
      "Roll num: 981238, Total credit: 168, CPI: 8.244047619047619\n",
      "Roll num: 124663, Total credit: 229, CPI: 8.126637554585153\n",
      "Roll num: 214270, Total credit: 229, CPI: 7.877729257641922\n",
      "Roll num: 582912, Total credit: 221, CPI: 8.656108597285067\n",
      "Roll num: 608522, Total credit: 159, CPI: 8.61006289308176\n",
      "Roll num: 461584, Total credit: 234, CPI: 8.235042735042734\n",
      "Roll num: 836881, Total credit: 246, CPI: 8.386178861788618\n",
      "Roll num: 781075, Total credit: 246, CPI: 8.170731707317072\n",
      "Roll num: 775967, Total credit: 197, CPI: 8.431472081218274\n",
      "Roll num: 143142, Total credit: 234, CPI: 8.782051282051283\n",
      "Roll num: 630568, Total credit: 217, CPI: 8.244239631336406\n",
      "Roll num: 294697, Total credit: 269, CPI: 8.572490706319703\n",
      "Roll num: 381227, Total credit: 179, CPI: 8.223463687150838\n",
      "Roll num: 782129, Total credit: 184, CPI: 8.53804347826087\n",
      "Roll num: 845623, Total credit: 237, CPI: 8.375527426160337\n",
      "Roll num: 482623, Total credit: 254, CPI: 8.401574803149606\n",
      "Roll num: 329535, Total credit: 157, CPI: 8.229299363057326\n",
      "Roll num: 881983, Total credit: 169, CPI: 8.325443786982248\n",
      "Roll num: 871746, Total credit: 216, CPI: 8.212962962962964\n",
      "Roll num: 310604, Total credit: 198, CPI: 8.333333333333334\n",
      "Roll num: 836431, Total credit: 160, CPI: 7.9\n",
      "Roll num: 626000, Total credit: 210, CPI: 8.428571428571429\n",
      "Roll num: 773982, Total credit: 264, CPI: 8.068181818181818\n",
      "Roll num: 973158, Total credit: 193, CPI: 8.512953367875648\n",
      "Roll num: 597353, Total credit: 200, CPI: 8.12\n",
      "Roll num: 388969, Total credit: 229, CPI: 8.314410480349345\n",
      "Roll num: 955757, Total credit: 251, CPI: 8.290836653386455\n",
      "Roll num: 810863, Total credit: 192, CPI: 8.151041666666666\n",
      "Roll num: 282482, Total credit: 228, CPI: 8.289473684210526\n",
      "Roll num: 971123, Total credit: 210, CPI: 7.961904761904762\n",
      "Roll num: 521087, Total credit: 223, CPI: 7.910313901345291\n",
      "Roll num: 571782, Total credit: 217, CPI: 8.423963133640553\n",
      "Roll num: 995208, Total credit: 157, CPI: 7.7834394904458595\n",
      "Roll num: 960395, Total credit: 262, CPI: 8.625954198473282\n",
      "Roll num: 478606, Total credit: 244, CPI: 8.319672131147541\n",
      "Roll num: 572815, Total credit: 212, CPI: 8.316037735849056\n",
      "Roll num: 998293, Total credit: 207, CPI: 8.695652173913043\n",
      "Roll num: 816041, Total credit: 158, CPI: 8.462025316455696\n",
      "Roll num: 703403, Total credit: 254, CPI: 8.338582677165354\n",
      "Roll num: 500658, Total credit: 208, CPI: 8.16826923076923\n",
      "Roll num: 203200, Total credit: 157, CPI: 8.789808917197453\n",
      "Roll num: 847809, Total credit: 261, CPI: 8.210727969348659\n",
      "Roll num: 986057, Total credit: 199, CPI: 8.06532663316583\n",
      "Roll num: 581065, Total credit: 196, CPI: 8.224489795918368\n",
      "Roll num: 327122, Total credit: 246, CPI: 8.16260162601626\n",
      "Roll num: 834515, Total credit: 199, CPI: 8.21608040201005\n",
      "Roll num: 458200, Total credit: 190, CPI: 8.394736842105264\n",
      "Roll num: 145372, Total credit: 173, CPI: 7.745664739884393\n",
      "Roll num: 150503, Total credit: 173, CPI: 8.289017341040463\n",
      "Roll num: 362471, Total credit: 214, CPI: 7.929906542056075\n",
      "Roll num: 143856, Total credit: 201, CPI: 8.487562189054726\n",
      "Roll num: 787967, Total credit: 192, CPI: 8.411458333333334\n"
     ]
    }
   ],
   "source": [
    "sorted_data = df.sort_values(by='roll_number', ascending=True)\n",
    "roll_nums = set(df['roll_number'].to_list())\n",
    "convert = {'AP':10, 'AA':10, 'AB':9, 'BB':8, 'BC':7, 'CC':6}\n",
    "for i in roll_nums:\n",
    "    credit = 0\n",
    "    cpi = 0\n",
    "    for j in range(len(sorted_data['roll_number'])):\n",
    "        if sorted_data['roll_number'][j] == i:\n",
    "            credit += sorted_data['credit'][j]\n",
    "            cpi += sorted_data['credit'][j]*convert[sorted_data['grade'][j]]\n",
    "    cpi = cpi/credit\n",
    "    print(f\"Roll num: {i}, Total credit: {credit}, CPI: {cpi}\")"
   ]
  },
  {
   "cell_type": "markdown",
   "metadata": {},
   "source": [
    "#### 2.c: Print out the names of all students who meet the graduation requirements \n",
    "Atleast 20 credist of core course, 15 credits of department elective, 10 credits of flexible elective and 5 credits of hasmed electives"
   ]
  },
  {
   "cell_type": "code",
   "execution_count": 13,
   "metadata": {},
   "outputs": [
    {
     "name": "stdout",
     "output_type": "stream",
     "text": [
      "879634\n",
      "681499\n",
      "928288\n",
      "970791\n",
      "888886\n",
      "721490\n",
      "207443\n",
      "379479\n",
      "180828\n",
      "692318\n",
      "485484\n",
      "628849\n",
      "144528\n",
      "588946\n",
      "461971\n",
      "283796\n",
      "391848\n",
      "750259\n",
      "608952\n",
      "716985\n",
      "265922\n",
      "517837\n",
      "159438\n",
      "488661\n",
      "581858\n",
      "534763\n",
      "981238\n",
      "124663\n",
      "214270\n",
      "608522\n",
      "836881\n",
      "781075\n",
      "143142\n",
      "630568\n",
      "294697\n",
      "381227\n",
      "782129\n",
      "845623\n",
      "482623\n",
      "881983\n",
      "871746\n",
      "310604\n",
      "626000\n",
      "773982\n",
      "973158\n",
      "388969\n",
      "955757\n",
      "810863\n",
      "282482\n",
      "971123\n",
      "521087\n",
      "571782\n",
      "960395\n",
      "572815\n",
      "998293\n",
      "703403\n",
      "500658\n",
      "203200\n",
      "986057\n",
      "581065\n",
      "327122\n",
      "834515\n",
      "150503\n",
      "362471\n",
      "143856\n",
      "787967\n"
     ]
    }
   ],
   "source": [
    "for i in roll_nums:\n",
    "    core = 0\n",
    "    elective = 0\n",
    "    flexible = 0\n",
    "    hasmed = 0\n",
    "    for j in range(len(sorted_data['course_type'])):\n",
    "        if sorted_data['roll_number'][j]==i and sorted_data['course_type'][j] == \"core\":\n",
    "            core += sorted_data['credit'][j]\n",
    "        elif sorted_data['roll_number'][j]==i and sorted_data['course_type'][j] == \"department_elective\":\n",
    "            elective += sorted_data['credit'][j]\n",
    "        elif sorted_data['roll_number'][j]==i and sorted_data['course_type'][j] == \"flexible_elective\":\n",
    "            flexible += sorted_data['credit'][j]\n",
    "        elif sorted_data['roll_number'][j]==i and sorted_data['course_type'][j] == \"hasmed_elective\":\n",
    "            hasmed += sorted_data['credit'][j]\n",
    "    if core >= 20 and elective >= 15 and flexible >= 10 and hasmed >= 5:\n",
    "        print(i)\n"
   ]
  },
  {
   "cell_type": "markdown",
   "metadata": {},
   "source": [
    "#### 2.d: Print out the names of all students who completed a minor \n",
    "Atleast 10 credits with minor tag in a specific department"
   ]
  },
  {
   "cell_type": "code",
   "execution_count": 21,
   "metadata": {},
   "outputs": [
    {
     "name": "stdout",
     "output_type": "stream",
     "text": [
      "{'CE', 'CSE', 'MA', 'IE', 'ME', 'EE', 'EC', 'CH', 'EP', 'MM'}\n",
      "Students of CE department having atleast 10 credits of minor tag\n",
      "613401\n",
      "993835\n",
      "788020\n",
      "888886\n",
      "381526\n",
      "461971\n",
      "781075\n",
      "381227\n",
      "810863\n",
      "478606\n",
      "500658\n",
      "143856\n",
      "Students of CSE department having atleast 10 credits of minor tag\n",
      "851029\n",
      "180828\n",
      "692318\n",
      "907454\n",
      "344265\n",
      "143142\n",
      "597353\n",
      "388969\n",
      "521087\n",
      "572815\n"
     ]
    }
   ],
   "source": [
    "print(set(sorted_data['department']))\n",
    "# Finding students of CE department having atleast 10 credits with minor tag\n",
    "print(\"Students of CE department having atleast 10 credits of minor tag\")\n",
    "for i in roll_nums:\n",
    "    minor = 0\n",
    "    for j in range(len(sorted_data['course_type'])):\n",
    "        if sorted_data['roll_number'][j]==i and sorted_data['department'][j] == \"CE\" and sorted_data['course_type'][j] == \"minor\":\n",
    "            minor += sorted_data['credit'][j]\n",
    "    if minor >= 10:\n",
    "        print(i)\n",
    "# Finding students of CSE department having atleast 10 credits with minor tag\n",
    "print(\"Students of CSE department having atleast 10 credits of minor tag\")\n",
    "for i in roll_nums:\n",
    "    minor = 0\n",
    "    for j in range(len(sorted_data['course_type'])):\n",
    "        if sorted_data['roll_number'][j]==i and sorted_data['department'][j] == \"CSE\" and sorted_data['course_type'][j] == \"minor\":\n",
    "            minor += sorted_data['credit'][j]\n",
    "    if minor >= 10:\n",
    "        print(i)"
   ]
  },
  {
   "cell_type": "markdown",
   "metadata": {},
   "source": [
    "#### 2.e: Print out the names of all students who completed a honours\n",
    "Atleast 10 credits with honours tag and 20 core credits"
   ]
  },
  {
   "cell_type": "code",
   "execution_count": 22,
   "metadata": {},
   "outputs": [
    {
     "name": "stdout",
     "output_type": "stream",
     "text": [
      "879634\n",
      "613401\n",
      "681499\n",
      "928288\n",
      "199713\n",
      "970791\n",
      "788020\n",
      "888886\n",
      "721490\n",
      "207443\n",
      "379479\n",
      "465496\n",
      "692318\n",
      "485484\n",
      "628849\n",
      "364146\n",
      "144528\n",
      "588946\n",
      "461971\n",
      "283796\n",
      "391848\n",
      "718510\n",
      "750259\n",
      "608952\n",
      "716985\n",
      "265922\n",
      "517837\n",
      "159438\n",
      "488661\n",
      "589528\n",
      "581858\n",
      "208100\n",
      "534763\n",
      "870642\n",
      "124663\n",
      "214270\n",
      "582912\n",
      "608522\n",
      "836881\n",
      "781075\n",
      "143142\n",
      "630568\n",
      "294697\n",
      "782129\n",
      "845623\n",
      "482623\n",
      "881983\n",
      "871746\n",
      "310604\n",
      "626000\n",
      "773982\n",
      "973158\n",
      "388969\n",
      "955757\n",
      "810863\n",
      "282482\n",
      "971123\n",
      "521087\n",
      "571782\n",
      "960395\n",
      "572815\n",
      "998293\n",
      "703403\n",
      "500658\n",
      "203200\n",
      "986057\n",
      "581065\n",
      "327122\n",
      "834515\n",
      "458200\n",
      "145372\n",
      "150503\n",
      "362471\n",
      "143856\n",
      "787967\n"
     ]
    }
   ],
   "source": [
    "for i in roll_nums:\n",
    "    honours = 0\n",
    "    core = 0\n",
    "    for j in range(len(sorted_data['course_type'])):\n",
    "        if sorted_data['roll_number'][j]==i and sorted_data['course_type'][j] == \"core\":\n",
    "            core += sorted_data['credit'][j]\n",
    "        elif sorted_data['roll_number'][j]==i and sorted_data['course_type'][j] == \"honours\":\n",
    "            honours += sorted_data['credit'][j]\n",
    "    if honours >= 10 and core >= 20:\n",
    "        print(i)"
   ]
  },
  {
   "cell_type": "markdown",
   "metadata": {},
   "source": [
    "# **SciPy** "
   ]
  },
  {
   "cell_type": "markdown",
   "metadata": {},
   "source": [
    "## Part A\n",
    "Minimize the function $f(x, y) = 2(x - y - 3)^2 + 4(x + 2y + 1)^4$.<br>\n",
    "With the constraints : $ x - y \\ge -3, (x + 2)^2 + (y + 1)^2 \\le 5$ <br>\n",
    "Using scipy.optimize.minimize with constraints. (Hint: Look at the examples in the official documentation)"
   ]
  },
  {
   "cell_type": "code",
   "execution_count": 23,
   "metadata": {},
   "outputs": [
    {
     "name": "stdout",
     "output_type": "stream",
     "text": [
      "Optimal solution: [ 0.23492503 -0.92851485]\n",
      "Objective value at optimal solution: 7.3450262273319185\n"
     ]
    },
    {
     "name": "stderr",
     "output_type": "stream",
     "text": [
      "/Users/vineetjangir/anaconda3/lib/python3.11/site-packages/scipy/optimize/_hessian_update_strategy.py:182: UserWarning: delta_grad == 0.0. Check if the approximated function is linear. If the function is linear better results can be obtained by defining the Hessian as zero instead of using quasi-Newton approximations.\n",
      "  warn('delta_grad == 0.0. Check if the approximated '\n"
     ]
    }
   ],
   "source": [
    "import numpy as np\n",
    "from scipy.optimize import minimize, NonlinearConstraint\n",
    "def f(x):\n",
    "    return 2*(x[0]-x[1]-3)**2 + 4*(x[0]+2*x[1]+1)**4\n",
    "\n",
    "def con1(x):\n",
    "    return x[0] - x[1] + 3\n",
    "\n",
    "def con2(x):\n",
    "    return (x[0]+2)**2 + (x[1]+1)**2 - 5\n",
    "\n",
    "nonlinear_con1 = NonlinearConstraint(con1, 0, np.inf)\n",
    "nonlinear_con2 = NonlinearConstraint(con2, -5, 0)\n",
    "x0 = [-1, 0]\n",
    "result = minimize(f, x0, method='trust-constr', constraints=[nonlinear_con1, nonlinear_con2])\n",
    "# Print results\n",
    "print(\"Optimal solution:\", result.x)\n",
    "print(\"Objective value at optimal solution:\", result.fun)"
   ]
  },
  {
   "cell_type": "markdown",
   "metadata": {},
   "source": [
    "# Part B\n",
    "Evaluate the line integral of the function $f(x, y) = x^2 + y^4$ along the circle $ x^2 + y^2 = 3 $ anticlockwise (scalar integral, not vector). You must use scipy for integration but you may use parameterization"
   ]
  },
  {
   "cell_type": "code",
   "execution_count": 26,
   "metadata": {},
   "outputs": [
    {
     "name": "stdout",
     "output_type": "stream",
     "text": [
      "Line integral value: 53.05363140385086\n",
      "Integration error estimate: 5.3768447472180014e-09\n"
     ]
    }
   ],
   "source": [
    "from scipy.integrate import quad\n",
    "import numpy as np\n",
    "\n",
    "r = np.sqrt(3)\n",
    "\n",
    "def x(t):\n",
    "    return r*np.cos(t)\n",
    "def y(t):\n",
    "    return r*np.sin(t)\n",
    "def f(t):\n",
    "    return x(t)**2 + y(t)**4\n",
    "def ds(t):\n",
    "    return r\n",
    "\n",
    "def integrand(t):\n",
    "    return f(t)*ds(t)\n",
    "\n",
    "result, error = quad(integrand, 0, 2 * np.pi)\n",
    "\n",
    "print(\"Line integral value:\", result)\n",
    "print(\"Integration error estimate:\", error)"
   ]
  },
  {
   "cell_type": "markdown",
   "metadata": {},
   "source": [
    "# **Numpy**"
   ]
  },
  {
   "cell_type": "markdown",
   "metadata": {},
   "source": [
    "### Read Lisan_Al_Gaib.pdf for problem description and complete the following functions"
   ]
  },
  {
   "cell_type": "code",
   "execution_count": 27,
   "metadata": {},
   "outputs": [],
   "source": [
    "import time # to time the execution\n",
    "import numpy as np\n",
    "import matplotlib.pyplot as plt"
   ]
  },
  {
   "cell_type": "code",
   "execution_count": 39,
   "metadata": {},
   "outputs": [],
   "source": [
    "### TODO 1\n",
    "### Load data from data_path\n",
    "### Check the input file spice_locations.txt to understand the Data Format\n",
    "### Return : np array of size Nx2\n",
    "def load_data(data_path):\n",
    "    data = np.loadtxt(data_path, delimiter=',')\n",
    "    return data\n"
   ]
  },
  {
   "cell_type": "code",
   "execution_count": 30,
   "metadata": {},
   "outputs": [],
   "source": [
    "### TODO 2.1\n",
    "### If init_centers is None, initialize the centers by selecting K data points at random without replacement\n",
    "### Else, use the centers provided in init_centers\n",
    "### Return : np array of size Kx2\n",
    "def initialise_centers(data, K, init_centers=None):\n",
    "    if init_centers is None:\n",
    "        indices = np.random.choice(len(data), size=K, replace=False)\n",
    "        centers = data[indices]\n",
    "    else:\n",
    "        centers = init_centers\n",
    "    return centers"
   ]
  },
  {
   "cell_type": "code",
   "execution_count": 31,
   "metadata": {},
   "outputs": [],
   "source": [
    "### TODO 2.2\n",
    "### Initialize the labels to all ones to size (N,) where N is the number of data points\n",
    "### Return : np array of size N\n",
    "def initialise_labels(data):\n",
    "    labels = np.ones(len(data))\n",
    "    return labels"
   ]
  },
  {
   "cell_type": "code",
   "execution_count": 32,
   "metadata": {},
   "outputs": [],
   "source": [
    "### TODO 3.1 : E step\n",
    "### For Each data point, find the distance to each center\n",
    "### Return : np array of size NxK\n",
    "def calculate_distances(data, centers):\n",
    "    distances = np.linalg.norm(data[:, np.newaxis] - centers, axis=2)\n",
    "    return distances"
   ]
  },
  {
   "cell_type": "code",
   "execution_count": 33,
   "metadata": {},
   "outputs": [],
   "source": [
    "### TODO 3.2 : E step\n",
    "### For Each data point, assign the label of the nearest center\n",
    "### Return : np array of size N\n",
    "def update_labels(distances):\n",
    "    labels = np.argmin(distances, axis=1)\n",
    "    return labels"
   ]
  },
  {
   "cell_type": "code",
   "execution_count": 34,
   "metadata": {},
   "outputs": [],
   "source": [
    "### TODO 4 : M step\n",
    "### Update the centers to the mean of the data points assigned to it\n",
    "### Return : np array of size Kx2\n",
    "def update_centers(data, labels, K):\n",
    "    new_centers = np.array([data[labels == k].mean(axis=0) for k in range(K)])\n",
    "    return new_centers\n"
   ]
  },
  {
   "cell_type": "code",
   "execution_count": 35,
   "metadata": {},
   "outputs": [],
   "source": [
    "### TODO 6 : Check convergence\n",
    "### Check if the labels have changed from the previous iteration\n",
    "### Return : True / False\n",
    "def check_termination(labels1, labels2):\n",
    "    return np.array_equal(labels1, labels2)"
   ]
  },
  {
   "cell_type": "code",
   "execution_count": 36,
   "metadata": {},
   "outputs": [],
   "source": [
    "### DON'T CHANGE ANYTHING IN THE FOLLOWING FUNCTION\n",
    "def kmeans(data_path:str, K:int, init_centers):\n",
    "    '''\n",
    "    Input :\n",
    "        data (type str): path to the file containing the data\n",
    "        K (type int): number of clusters\n",
    "        init_centers (type numpy.ndarray): initial centers. shape = (K, 2) or None\n",
    "    Output :\n",
    "        centers (type numpy.ndarray): final centers. shape = (K, 2)\n",
    "        labels (type numpy.ndarray): label of each data point. shape = (N,)\n",
    "        time (type float): time taken by the algorithm to converge in seconds\n",
    "    N is the number of data points each of shape (2,)\n",
    "    '''\n",
    "    data = load_data(data_path)    \n",
    "    centers = initialise_centers(data, K, init_centers)\n",
    "    labels = initialise_labels(data)\n",
    "\n",
    "    start_time = time.time() # Time stamp \n",
    "\n",
    "    while True:\n",
    "        distances = calculate_distances(data, centers)\n",
    "        labels_new = update_labels(distances)\n",
    "        centers = update_centers(data, labels_new, K)\n",
    "        if check_termination(labels, labels_new): break\n",
    "        else: labels = labels_new\n",
    " \n",
    "    end_time = time.time() # Time stamp after the algorithm ends\n",
    "    return centers, labels, end_time - start_time "
   ]
  },
  {
   "cell_type": "code",
   "execution_count": 37,
   "metadata": {},
   "outputs": [],
   "source": [
    "### TODO 7\n",
    "def visualise(data_path, labels, centers):\n",
    "    data = load_data(data_path)\n",
    "\n",
    "    # Scatter plot of the data points\n",
    "    plt.scatter(data[:, 0], data[:, 1], c=labels, s=50, cmap='viridis')\n",
    "    plt.scatter(centers[:, 0], centers[:, 1], c='black', s=200, alpha=0.5)\n",
    "\n",
    "    ### Set title as 'K-means clustering'\n",
    "    plt.title('K-means clustering')\n",
    "    ### Set xlabel as 'Longitude'\n",
    "    plt.xlabel('Longitude')\n",
    "    ### Set ylabel as 'Latitude'\n",
    "    plt.ylabel('Latitude')\n",
    "    ### Save the plot as 'kmeans.png'\n",
    "    plt.savefig('kmeans.png')\n",
    "\n",
    "    ## DO NOT CHANGE THE FOLLOWING LINE\n",
    "    return plt"
   ]
  },
  {
   "cell_type": "code",
   "execution_count": 41,
   "metadata": {},
   "outputs": [
    {
     "name": "stdout",
     "output_type": "stream",
     "text": [
      "Time taken for the algorithm to converge: 0.0004200935363769531\n"
     ]
    },
    {
     "data": {
      "text/plain": [
       "<module 'matplotlib.pyplot' from '/Users/vineetjangir/anaconda3/lib/python3.11/site-packages/matplotlib/pyplot.py'>"
      ]
     },
     "execution_count": 41,
     "metadata": {},
     "output_type": "execute_result"
    },
    {
     "data": {
      "image/png": "[encoded data removed]",
      "text/plain": [
       "<Figure size 640x480 with 1 Axes>"
      ]
     },
     "metadata": {},
     "output_type": "display_data"
    }
   ],
   "source": [
    "### After you have completed the above functions, run the following code to generate the plot\n",
    "data_path = 'spice_locations.txt'\n",
    "K, init_centers = 2, None\n",
    "centers, labels, time_taken = kmeans(data_path, K, init_centers)\n",
    "print('Time taken for the algorithm to converge:', time_taken)\n",
    "visualise(data_path, labels, centers)"
   ]
  }
 ],
 "metadata": {
  "kernelspec": {
   "display_name": "Python 3",
   "language": "python",
   "name": "python3"
  },
  "language_info": {
   "codemirror_mode": {
    "name": "ipython",
    "version": 3
   },
   "file_extension": ".py",
   "mimetype": "text/x-python",
   "name": "python",
   "nbconvert_exporter": "python",
   "pygments_lexer": "ipython3",
   "version": "3.11.5"
  }
 },
 "nbformat": 4,
 "nbformat_minor": 2
}
